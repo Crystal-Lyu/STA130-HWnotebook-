{
 "cells": [
  {
   "cell_type": "markdown",
   "id": "180b005c",
   "metadata": {},
   "source": [
    "### Q1 (Pre-lecture"
   ]
  },
  {
   "cell_type": "code",
   "execution_count": 26,
   "id": "6c493f75",
   "metadata": {
    "scrolled": false
   },
   "outputs": [
    {
     "data": {
      "text/plain": [
       "row_n           0\n",
       "id              1\n",
       "name            0\n",
       "gender          0\n",
       "species         0\n",
       "birthday        0\n",
       "personality     0\n",
       "song           11\n",
       "phrase          0\n",
       "full_id         0\n",
       "url             0\n",
       "dtype: int64"
      ]
     },
     "execution_count": 26,
     "metadata": {},
     "output_type": "execute_result"
    }
   ],
   "source": [
    "url = \"https://raw.githubusercontent.com/rfordatascience/tidytuesday/master/data/2020/2020-05-05/villagers.csv\"\n",
    "df = pd.read_csv(url)\n",
    "df.isna().sum()"
   ]
  },
  {
   "cell_type": "markdown",
   "id": "7f811416",
   "metadata": {},
   "source": [
    "### Q2"
   ]
  },
  {
   "cell_type": "code",
   "execution_count": 4,
   "id": "fd084153",
   "metadata": {},
   "outputs": [
    {
     "name": "stdout",
     "output_type": "stream",
     "text": [
      "Column Names: ['row_n', 'id', 'name', 'gender', 'species', 'birthday', 'personality', 'song', 'phrase', 'full_id', 'url']\n",
      "Number of Rows: 391\n"
     ]
    }
   ],
   "source": [
    "url = \"https://raw.githubusercontent.com/rfordatascience/tidytuesday/master/data/2020/2020-05-05/villagers.csv\"\n",
    "villagers_df = pd.read_csv(url)\n",
    "\n",
    "print(\"Column Names:\", villagers_df.columns.tolist())\n",
    "\n",
    "print(\"Number of Rows:\", len(villagers_df))"
   ]
  },
  {
   "cell_type": "code",
   "execution_count": 19,
   "id": "407ee413",
   "metadata": {
    "scrolled": true
   },
   "outputs": [
    {
     "name": "stdout",
     "output_type": "stream",
     "text": [
      "The dataset has 391 rows and 11 columns.\n"
     ]
    }
   ],
   "source": [
    "file_path = \"https://raw.githubusercontent.com/rfordatascience/tidytuesday/master/data/2020/2020-05-05/villagers.csv\"\n",
    "villagers_df = pd.read_csv(file_path)\n",
    "\n",
    "num_rows, num_columns = villagers_df.shape\n",
    "\n",
    "print(f\"The dataset has {num_rows} rows and {num_columns} columns.\")"
   ]
  },
  {
   "cell_type": "markdown",
   "id": "471660ab",
   "metadata": {},
   "source": [
    "### Q3"
   ]
  },
  {
   "cell_type": "markdown",
   "id": "76e37284",
   "metadata": {},
   "source": [
    "    sample 1. using df.describe()"
   ]
  },
  {
   "cell_type": "code",
   "execution_count": 12,
   "id": "931b30d0",
   "metadata": {},
   "outputs": [
    {
     "name": "stdout",
     "output_type": "stream",
     "text": [
      "            row_n\n",
      "count  391.000000\n",
      "mean   239.902813\n",
      "std    140.702672\n",
      "min      2.000000\n",
      "25%    117.500000\n",
      "50%    240.000000\n",
      "75%    363.500000\n",
      "max    483.000000\n"
     ]
    }
   ],
   "source": [
    "file_path = \"https://raw.githubusercontent.com/rfordatascience/tidytuesday/master/data/2020/2020-05-05/villagers.csv\"\n",
    "villagers_df = pd.read_csv(file_path)\n",
    "\n",
    "summary_statistics = villagers_df.describe()\n",
    "\n",
    "print(summary_statistics)"
   ]
  },
  {
   "cell_type": "markdown",
   "id": "85784e6b",
   "metadata": {},
   "source": [
    "    sample 2. using df['column'].value_counts()"
   ]
  },
  {
   "cell_type": "code",
   "execution_count": 11,
   "id": "de360626",
   "metadata": {},
   "outputs": [
    {
     "name": "stdout",
     "output_type": "stream",
     "text": [
      "species\n",
      "cat          23\n",
      "rabbit       20\n",
      "frog         18\n",
      "squirrel     18\n",
      "duck         17\n",
      "dog          16\n",
      "cub          16\n",
      "pig          15\n",
      "bear         15\n",
      "mouse        15\n",
      "horse        15\n",
      "bird         13\n",
      "penguin      13\n",
      "sheep        13\n",
      "elephant     11\n",
      "wolf         11\n",
      "ostrich      10\n",
      "deer         10\n",
      "eagle         9\n",
      "gorilla       9\n",
      "chicken       9\n",
      "koala         9\n",
      "goat          8\n",
      "hamster       8\n",
      "kangaroo      8\n",
      "monkey        8\n",
      "anteater      7\n",
      "hippo         7\n",
      "tiger         7\n",
      "alligator     7\n",
      "lion          7\n",
      "bull          6\n",
      "rhino         6\n",
      "cow           4\n",
      "octopus       3\n",
      "Name: count, dtype: int64\n"
     ]
    }
   ],
   "source": [
    "file_path = \"https://raw.githubusercontent.com/rfordatascience/tidytuesday/master/data/2020/2020-05-05/villagers.csv\"\n",
    "villagers_df = pd.read_csv(file_path)\n",
    "\n",
    "species_counts = villagers_df['species'].value_counts()\n",
    "\n",
    "print(species_counts)"
   ]
  },
  {
   "cell_type": "markdown",
   "id": "ae900bd0",
   "metadata": {},
   "source": [
    "### Q4"
   ]
  },
  {
   "cell_type": "markdown",
   "id": "78c7593c",
   "metadata": {},
   "source": [
    "The chatbot shows that the mean() function is trying to calculate the meaning of non-numeric columns, which is unreasonable. And the chatbot specify that the mean should only be calculated for numeric columns by using 'villagers_df.select_dtypes(include=['number']).columns' codes and 'villagers_df[numeric_columns].fillna(villagers_df[numeric_columns].mean())' codes to select the numeric columns and filling missing values."
   ]
  },
  {
   "cell_type": "markdown",
   "id": "072367cd",
   "metadata": {},
   "source": [
    "The chatbot shows that the mean() function is trying to calculate the meaning of non-numeric columns, which is unreasonable. \n",
    "\n",
    "And the chatbot specify that the mean should only be calculated for numeric columns by using 'villagers_df.select_dtypes(include=['number']).columns'                      code and 'villagers_df[numeric_columns].fillna(villagers_df[numeric_columns].mean())'  code \n",
    "to select the numeric columns and filling missing values."
   ]
  },
  {
   "cell_type": "markdown",
   "id": "b59ac6dc",
   "metadata": {},
   "source": [
    "### Q5 (attributes and methods)"
   ]
  },
  {
   "cell_type": "markdown",
   "id": "a2570d6d",
   "metadata": {},
   "source": [
    "Attributes are valuables belong to an object, which holds the data or state information about the object. \n",
    "It only focus on the informations about object and can not alter or be changed.\n",
    "\n",
    "Methods are functions belong to an object, which perform operations on it and is able to take arguments.\n",
    "It focus on how to use, calculate and count the objects.\n",
    "\n",
    "And also, attributes do not use parentheses, while methods do."
   ]
  },
  {
   "cell_type": "markdown",
   "id": "89abf3a6",
   "metadata": {},
   "source": [
    "### summary of chat session"
   ]
  },
  {
   "cell_type": "markdown",
   "id": "aeba7bcd",
   "metadata": {},
   "source": [
    "Here’s a summary of our entire chat session:\n",
    "Difference Between Attributes and Methods:\n",
    "Attributes: Variables that belong to an object, providing information about it (e.g., df.shape).\n",
    "Methods: Functions that belong to an object, performing actions or computations on it (e.g., df.describe()).\n",
    "Is there anything else you’d like to know or discuss?"
   ]
  },
  {
   "cell_type": "markdown",
   "id": "24fc2500",
   "metadata": {},
   "source": [
    "### Q6 (Post-lecture"
   ]
  },
  {
   "cell_type": "markdown",
   "id": "690ac0de",
   "metadata": {},
   "source": [
    "count: The number of non-null entries.\n",
    "\n",
    "mean: The average value.\n",
    "\n",
    "std: The standard deviation.\n",
    "\n",
    "min: The minimum value.\n",
    "\n",
    "25%: The 25th percentile (first quartile).\n",
    "\n",
    "50%: The 50th percentile (median).\n",
    "\n",
    "75%: The 75th percentile (third quartile).\n",
    "\n",
    "max: The maximum value."
   ]
  },
  {
   "cell_type": "markdown",
   "id": "57caf131",
   "metadata": {},
   "source": [
    "### Q7  "
   ]
  },
  {
   "cell_type": "markdown",
   "id": "2a2596bc",
   "metadata": {},
   "source": [
    "#example1 ( prefer to df.dropna() )\n",
    "\n",
    "a dataset with several missing values, but the majority of this dataset is complete.\n",
    "such as a survey that most of respondents refuse to provide all imformations.\n",
    "\n",
    "\n",
    "\n",
    "#example2 ( prefer to del df['col'] )\n",
    "\n",
    "a dataset that is unreliable due to most of the values are missing.\n",
    "such as a paper that only few questions have not been answered.\n",
    "\n",
    "\n",
    "\n",
    "#reason\n",
    "\n",
    "Because the del df['col'] can remove the columns with high percentage of missing values in the first place, which can avoid the lost of core data and protect the data in the remaining, more complete columns."
   ]
  },
  {
   "cell_type": "markdown",
   "id": "b55faa29",
   "metadata": {},
   "source": [
    "### Q8"
   ]
  },
  {
   "cell_type": "markdown",
   "id": "09aa0c02",
   "metadata": {},
   "source": [
    "#q1\n",
    "\n",
    "The df.groupby(\"col1\")[\"col2\"]. describe() code groups the dataset by the “clo1” column and then provide descriptive statistics for the “col2” column within each class.\n",
    "\n",
    "#q2\n",
    "\n",
    "1st: the scopes of calculation are different.\n",
    "    df.describe() calculates statistics for the entire dataset.\n",
    "    df.groupby(\"col1\")[\"col2\"].describe() calculates statistics within each group which have already been defined by col1.\n",
    "    \n",
    "2ed:the ways dealing with missing values are different.\n",
    "    df.describe() reflects the total number of non-missing values in the column.\n",
    "    df.groupby(\"col1\")[\"col2\"].describe() reflects the number of non-missing values in 'col2' which are in each group of 'col1'.\n",
    "    \n",
    "#q3\n",
    "\n",
    "(a)A/E/F/G: are easier to work in a ChatBot session to fix the errors.\n",
    "\n",
    "(b)B/C/D:use google to search for and fix errors"
   ]
  },
  {
   "cell_type": "markdown",
   "id": "fee1b488",
   "metadata": {},
   "source": [
    "### Q9"
   ]
  },
  {
   "cell_type": "markdown",
   "id": "5a7098d4",
   "metadata": {},
   "source": [
    "I have interacted with a ChatBot and reviewed the QA discussion board on piazza.But I have not reviewed the wiki-textbook although I tried to use chatGDP and upload the file of textbook posted on github, because I am struggling with figuring out how whey work."
   ]
  },
  {
   "cell_type": "code",
   "execution_count": null,
   "id": "fdf59526",
   "metadata": {},
   "outputs": [],
   "source": []
  }
 ],
 "metadata": {
  "kernelspec": {
   "display_name": "Python 3 (ipykernel)",
   "language": "python",
   "name": "python3"
  },
  "language_info": {
   "codemirror_mode": {
    "name": "ipython",
    "version": 3
   },
   "file_extension": ".py",
   "mimetype": "text/x-python",
   "name": "python",
   "nbconvert_exporter": "python",
   "pygments_lexer": "ipython3",
   "version": "3.11.6"
  }
 },
 "nbformat": 4,
 "nbformat_minor": 5
}
